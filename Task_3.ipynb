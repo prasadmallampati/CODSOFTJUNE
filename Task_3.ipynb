{
  "nbformat": 4,
  "nbformat_minor": 0,
  "metadata": {
    "colab": {
      "provenance": [],
      "authorship_tag": "ABX9TyNn9dud1HZI46K1Xi/DYjX7",
      "include_colab_link": true
    },
    "kernelspec": {
      "name": "python3",
      "display_name": "Python 3"
    },
    "language_info": {
      "name": "python"
    }
  },
  "cells": [
    {
      "cell_type": "markdown",
      "metadata": {
        "id": "view-in-github",
        "colab_type": "text"
      },
      "source": [
        "<a href=\"https://colab.research.google.com/github/prasadmallampati/CODSOFTJUNE/blob/main/Task_3.ipynb\" target=\"_parent\"><img src=\"https://colab.research.google.com/assets/colab-badge.svg\" alt=\"Open In Colab\"/></a>"
      ]
    },
    {
      "cell_type": "markdown",
      "source": [
        "A password generator is a useful tool that generates strong and\n",
        "\n",
        "random passwords for users. This project aims to create a\n",
        "password generator application using Python, allowing users to\n",
        "\n",
        "specify the length and complexity of the password."
      ],
      "metadata": {
        "id": "UKyjVtvESFon"
      }
    },
    {
      "cell_type": "code",
      "source": [
        "import random\n",
        "import string"
      ],
      "metadata": {
        "id": "8OgeBkxpSHvY"
      },
      "execution_count": 2,
      "outputs": []
    },
    {
      "cell_type": "code",
      "source": [
        "def generate_password(length):\n",
        "    # Define the character set for the password (letters and digits)\n",
        "    characters = string.ascii_letters + string.digits\n",
        "\n",
        "    # Generate the password\n",
        "    password = ''.join(random.choice(characters) for _ in range(length))\n",
        "    return password\n",
        "\n",
        "def main():\n",
        "    print(\"Welcome to the Password Generator!\")\n",
        "\n",
        "    # Get user input for the length of the password\n",
        "    length = int(input(\"Enter the length of the password: \"))\n",
        "\n",
        "    # Generate the password\n",
        "    password = generate_password(length)\n",
        "\n",
        "    # Print the generated password\n",
        "    print(f\"Generated Password: {password}\")\n",
        "\n",
        "if __name__ == \"__main__\":\n",
        "    main()\n"
      ],
      "metadata": {
        "colab": {
          "base_uri": "https://localhost:8080/"
        },
        "id": "i6KbZaO6SQWm",
        "outputId": "e5cf94f4-da3d-49ba-b4c2-1cac42f07f39"
      },
      "execution_count": 3,
      "outputs": [
        {
          "output_type": "stream",
          "name": "stdout",
          "text": [
            "Welcome to the Password Generator!\n",
            "Enter the length of the password: 10\n",
            "Generated Password: 4ohMqF4z8X\n"
          ]
        }
      ]
    }
  ]
}