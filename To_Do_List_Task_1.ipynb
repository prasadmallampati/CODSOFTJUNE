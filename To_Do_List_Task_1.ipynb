{
  "nbformat": 4,
  "nbformat_minor": 0,
  "metadata": {
    "colab": {
      "provenance": [],
      "authorship_tag": "ABX9TyMsUWOPYBiBQ1ALSQBavQad",
      "include_colab_link": true
    },
    "kernelspec": {
      "name": "python3",
      "display_name": "Python 3"
    },
    "language_info": {
      "name": "python"
    }
  },
  "cells": [
    {
      "cell_type": "markdown",
      "metadata": {
        "id": "view-in-github",
        "colab_type": "text"
      },
      "source": [
        "<a href=\"https://colab.research.google.com/github/prasadmallampati/CODSOFTJUNE/blob/main/To_Do_List_Task_1.ipynb\" target=\"_parent\"><img src=\"https://colab.research.google.com/assets/colab-badge.svg\" alt=\"Open In Colab\"/></a>"
      ]
    },
    {
      "cell_type": "markdown",
      "source": [
        "#A to-do list in Python is a software application or program that helps users manage and organize their tasks and responsibilities. It allows users to create a list of tasks they need to complete, update task details, mark tasks as completed, and sometimes set deadlines or priorities for tasks. To-do list applications can be implemented in various ways, including command-line interfaces, graphical user interfaces (GUIs), web applications, and mobile apps."
      ],
      "metadata": {
        "id": "qRmHFsDInji8"
      }
    },
    {
      "cell_type": "code",
      "source": [
        "#creating ToDoList class\n",
        "class ToDoList:\n",
        "  #creating constructor\n",
        "    def __init__(self):\n",
        "        self.tasks = [] #creating empty list\n",
        "    #creating method for adding task to do list\n",
        "    def add_task(self, task):\n",
        "        self.tasks.append({\"task\": task, \"completed\": False})\n",
        "        print(\"Task added!\")\n",
        "    #display tasks\n",
        "    def show_tasks(self):\n",
        "        print(\"To-Do List:\")\n",
        "        for index, task in enumerate(self.tasks, start=1):\n",
        "            status = \" [X]\" if task[\"completed\"] else \" [ ]\"\n",
        "            print(f\"{index}. {task['task']}{status}\")\n",
        "    #updation method\n",
        "    def update_task(self, index, updated_task):\n",
        "        if 1 <= index <= len(self.tasks):\n",
        "            self.tasks[index - 1][\"task\"] = updated_task\n",
        "            print(\"Task updated!\")\n",
        "        else:\n",
        "            print(\"Invalid task index.\")\n",
        "    #completion method\n",
        "    def mark_completed(self, index):\n",
        "        if 1 <= index <= len(self.tasks):\n",
        "            self.tasks[index - 1][\"completed\"] = True\n",
        "            print(\"Task marked as completed!\")\n",
        "        else:\n",
        "            print(\"Invalid task index.\")\n",
        "    #like switch case here run method\n",
        "    def run(self):\n",
        "        #infinate loop for iteration\n",
        "        while True:\n",
        "            print(\"\\n1. Add task\\n2. Show tasks\\n3. Update task\\n4. Mark task as completed\\n5. Quit\")\n",
        "            choice = input(\"Enter your choice: \")\n",
        "\n",
        "            if choice == \"1\":\n",
        "                task = input(\"Enter task: \")\n",
        "                self.add_task(task)\n",
        "            elif choice == \"2\":\n",
        "                self.show_tasks()\n",
        "            elif choice == \"3\":\n",
        "                self.show_tasks()\n",
        "                index = int(input(\"Enter task index to update: \"))\n",
        "                updated_task = input(\"Enter updated task: \")\n",
        "                self.update_task(index, updated_task)\n",
        "            elif choice == \"4\":\n",
        "                self.show_tasks()\n",
        "                index = int(input(\"Enter task index to mark as completed: \"))\n",
        "                self.mark_completed(index)\n",
        "            elif choice == \"5\":\n",
        "                break\n",
        "            else:\n",
        "                print(\"Invalid choice. Please provide a valid choice.\")\n",
        "\n",
        "#creation mai\n",
        "if __name__ == \"__main__\":\n",
        "    todo_list = ToDoList()\n",
        "    todo_list.run()\n"
      ],
      "metadata": {
        "colab": {
          "base_uri": "https://localhost:8080/"
        },
        "id": "9fCZSZS-on-0",
        "outputId": "77840d25-9df1-4e33-e16d-664aaa2f6bd4"
      },
      "execution_count": null,
      "outputs": [
        {
          "name": "stdout",
          "output_type": "stream",
          "text": [
            "\n",
            "1. Add task\n",
            "2. Show tasks\n",
            "3. Update task\n",
            "4. Mark task as completed\n",
            "5. Quit\n",
            "Enter your choice: 1\n",
            "Enter task: 1 2 3 4\n",
            "Task added!\n",
            "\n",
            "1. Add task\n",
            "2. Show tasks\n",
            "3. Update task\n",
            "4. Mark task as completed\n",
            "5. Quit\n",
            "Enter your choice: 3\n",
            "To-Do List:\n",
            "1. 1 2 3 4 [ ]\n",
            "Enter task index to update: 4\n",
            "Enter updated task: 1\n",
            "Invalid task index.\n",
            "\n",
            "1. Add task\n",
            "2. Show tasks\n",
            "3. Update task\n",
            "4. Mark task as completed\n",
            "5. Quit\n",
            "Enter your choice: 4\n",
            "To-Do List:\n",
            "1. 1 2 3 4 [ ]\n",
            "Enter task index to mark as completed: 1\n",
            "Task marked as completed!\n",
            "\n",
            "1. Add task\n",
            "2. Show tasks\n",
            "3. Update task\n",
            "4. Mark task as completed\n",
            "5. Quit\n",
            "Enter your choice: 5\n"
          ]
        }
      ]
    },
    {
      "cell_type": "code",
      "source": [],
      "metadata": {
        "id": "gMbd-trBtUtV"
      },
      "execution_count": null,
      "outputs": []
    }
  ]
}